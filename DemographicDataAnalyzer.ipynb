{
  "nbformat": 4,
  "nbformat_minor": 0,
  "metadata": {
    "colab": {
      "provenance": [],
      "authorship_tag": "ABX9TyOoUtMLbOOFj8VeRu7HghMg",
      "include_colab_link": true
    },
    "kernelspec": {
      "name": "python3",
      "display_name": "Python 3"
    },
    "language_info": {
      "name": "python"
    }
  },
  "cells": [
    {
      "cell_type": "markdown",
      "metadata": {
        "id": "view-in-github",
        "colab_type": "text"
      },
      "source": [
        "<a href=\"https://colab.research.google.com/github/neetagt/Data-Analysis-with-Python/blob/main/DemographicDataAnalyzer.ipynb\" target=\"_parent\"><img src=\"https://colab.research.google.com/assets/colab-badge.svg\" alt=\"Open In Colab\"/></a>"
      ]
    },
    {
      "cell_type": "code",
      "execution_count": 1,
      "metadata": {
        "id": "aJ6afuDv8xOM"
      },
      "outputs": [],
      "source": [
        "import pandas as pd"
      ]
    },
    {
      "cell_type": "code",
      "source": [
        "import pandas as pd\n",
        "\n",
        "\n",
        "def calculate_demographic_data(print_data=True):\n",
        "    # Read data from file\n",
        "    df = pd.read_csv('/content/adult.data.csv')\n",
        "\n",
        "    # How many of each race are represented in this dataset? This should be a Pandas series with race names as the index labels.\n",
        "    race_count = df['race'].value_counts()\n",
        "\n",
        "    # What is the average age of men?\n",
        "    average_age_men = df['age'][df['sex'] == 'Male'].mean().round(1)\n",
        "\n",
        "    # What is the percentage of people who have a Bachelor's degree?\n",
        "    percentage_bachelors = (df['education'][df['education'] == 'Bachelors'].count() / df['education'].count() * 100).round(1)\n",
        "\n",
        "    # What percentage of people with advanced education (`Bachelors`, `Masters`, or `Doctorate`) make more than 50K?\n",
        "    # What percentage of people without advanced education make more than 50K?\n",
        "\n",
        "    # with and without `Bachelors`, `Masters`, or `Doctorate`\n",
        "    higher_education = df['education'][df['education'].isin(['Bachelors', 'Masters', 'Doctorate'])].count()\n",
        "    lower_education = df['education'][~df['education'].isin(['Bachelors', 'Masters', 'Doctorate'])].count()\n",
        "\n",
        "    # percentage with salary >50K\n",
        "    higher_education_rich = (df['salary'][(df['education'].isin(['Bachelors', 'Masters', 'Doctorate'])) & (df['salary'] == '>50K')].count() / higher_education * 100).round(1)\n",
        "    lower_education_rich = (df['salary'][(~df['education'].isin(['Bachelors', 'Masters', 'Doctorate'])) & (df['salary'] == '>50K')].count() / lower_education * 100).round(1)\n",
        "\n",
        "    # What is the minimum number of hours a person works per week (hours-per-week feature)?\n",
        "    min_work_hours = df['hours-per-week'].min()\n",
        "\n",
        "    # What percentage of the people who work the minimum number of hours per week have a salary of >50K?\n",
        "    num_min_workers = df['salary'][df['hours-per-week'] == min_work_hours].count()\n",
        "\n",
        "    rich_percentage = df['salary'][(df['hours-per-week'] == min_work_hours) & (df['salary'] == '>50K')].count()/num_min_workers * 100\n",
        "\n",
        "    # What country has the highest percentage of people that earn >50K?\n",
        "    highest_earning_country = None\n",
        "    highest_earning_country_percentage = 0.0\n",
        "    for country, data in df.groupby('native-country'):\n",
        "        percentage = (data['salary'] == '>50K').sum() / data['salary'].count()\n",
        "        if highest_earning_country_percentage < percentage:\n",
        "            highest_earning_country_percentage = percentage\n",
        "            highest_earning_country = country\n",
        "    highest_earning_country_percentage = round(100 * highest_earning_country_percentage,1)\n",
        "\n",
        "    # Identify the most popular occupation for those who earn >50K in India.\n",
        "    top_IN_occupation = df['occupation'][(df['native-country'] == 'India') & (df['salary'] == '>50K')].value_counts().idxmax()\n",
        "\n",
        "    # DO NOT MODIFY BELOW THIS LINE\n",
        "\n",
        "    if print_data:\n",
        "        print(\"Number of each race:\\n\", race_count)\n",
        "        print(\"Average age of men:\", average_age_men)\n",
        "        print(f\"Percentage with Bachelors degrees: {percentage_bachelors}%\")\n",
        "        print(f\"Percentage with higher education that earn >50K: {higher_education_rich}%\")\n",
        "        print(f\"Percentage without higher education that earn >50K: {lower_education_rich}%\")\n",
        "        print(f\"Min work time: {min_work_hours} hours/week\")\n",
        "        print(f\"Percentage of rich among those who work fewest hours: {rich_percentage}%\")\n",
        "        print(\"Country with highest percentage of rich:\", highest_earning_country)\n",
        "        print(f\"Highest percentage of rich people in country: {highest_earning_country_percentage}%\")\n",
        "        print(\"Top occupations in India:\", top_IN_occupation)\n",
        "\n",
        "    return {\n",
        "        'race_count': race_count,\n",
        "        'average_age_men': average_age_men,\n",
        "        'percentage_bachelors': percentage_bachelors,\n",
        "        'higher_education_rich': higher_education_rich,\n",
        "        'lower_education_rich': lower_education_rich,\n",
        "        'min_work_hours': min_work_hours,\n",
        "        'rich_percentage': rich_percentage,\n",
        "        'highest_earning_country': highest_earning_country,\n",
        "        'highest_earning_country_percentage':\n",
        "        highest_earning_country_percentage,\n",
        "        'top_IN_occupation': top_IN_occupation\n",
        "    }\n"
      ],
      "metadata": {
        "id": "JrS4roZ6-MSl"
      },
      "execution_count": 15,
      "outputs": []
    },
    {
      "cell_type": "code",
      "source": [
        "calculate_demographic_data()"
      ],
      "metadata": {
        "colab": {
          "base_uri": "https://localhost:8080/"
        },
        "id": "fKXO6JZ5Butw",
        "outputId": "c6eea96c-5f88-435d-cfd7-fbd7c5de1b93"
      },
      "execution_count": 16,
      "outputs": [
        {
          "output_type": "stream",
          "name": "stdout",
          "text": [
            "Number of each race:\n",
            " race\n",
            "White                 27816\n",
            "Black                  3124\n",
            "Asian-Pac-Islander     1039\n",
            "Amer-Indian-Eskimo      311\n",
            "Other                   271\n",
            "Name: count, dtype: int64\n",
            "Average age of men: 39.4\n",
            "Percentage with Bachelors degrees: 16.4%\n",
            "Percentage with higher education that earn >50K: 46.5%\n",
            "Percentage without higher education that earn >50K: 17.4%\n",
            "Min work time: 1 hours/week\n",
            "Percentage of rich among those who work fewest hours: 10.0%\n",
            "Country with highest percentage of rich: Iran\n",
            "Highest percentage of rich people in country: 41.9%\n",
            "Top occupations in India: Prof-specialty\n"
          ]
        },
        {
          "output_type": "execute_result",
          "data": {
            "text/plain": [
              "{'race_count': race\n",
              " White                 27816\n",
              " Black                  3124\n",
              " Asian-Pac-Islander     1039\n",
              " Amer-Indian-Eskimo      311\n",
              " Other                   271\n",
              " Name: count, dtype: int64,\n",
              " 'average_age_men': np.float64(39.4),\n",
              " 'percentage_bachelors': np.float64(16.4),\n",
              " 'higher_education_rich': np.float64(46.5),\n",
              " 'lower_education_rich': np.float64(17.4),\n",
              " 'min_work_hours': 1,\n",
              " 'rich_percentage': np.float64(10.0),\n",
              " 'highest_earning_country': 'Iran',\n",
              " 'highest_earning_country_percentage': np.float64(41.9),\n",
              " 'top_IN_occupation': 'Prof-specialty'}"
            ]
          },
          "metadata": {},
          "execution_count": 16
        }
      ]
    },
    {
      "cell_type": "code",
      "source": [],
      "metadata": {
        "id": "gkfaEWXgBvTs"
      },
      "execution_count": null,
      "outputs": []
    }
  ]
}