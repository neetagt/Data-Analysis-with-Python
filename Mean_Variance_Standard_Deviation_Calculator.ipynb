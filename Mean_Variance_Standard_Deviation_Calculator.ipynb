{
  "nbformat": 4,
  "nbformat_minor": 0,
  "metadata": {
    "colab": {
      "provenance": [],
      "authorship_tag": "ABX9TyNEOgkeLflN7pYUcJA/vv2C",
      "include_colab_link": true
    },
    "kernelspec": {
      "name": "python3",
      "display_name": "Python 3"
    },
    "language_info": {
      "name": "python"
    }
  },
  "cells": [
    {
      "cell_type": "markdown",
      "metadata": {
        "id": "view-in-github",
        "colab_type": "text"
      },
      "source": [
        "<a href=\"https://colab.research.google.com/github/neetagt/Data-Analysis-with-Python/blob/main/Mean_Variance_Standard_Deviation_Calculator.ipynb\" target=\"_parent\"><img src=\"https://colab.research.google.com/assets/colab-badge.svg\" alt=\"Open In Colab\"/></a>"
      ]
    },
    {
      "cell_type": "code",
      "source": [
        "import numpy as np\n",
        "\n",
        "def calculate(list):\n",
        "  if len(list) != 9:\n",
        "    raise ValueError(\"List must contain nine numbers.\")\n",
        "  a = np.array(list)\n",
        "  a = a.reshape(3,3)\n",
        "  calculations = {}\n",
        "  calculations['mean'] = [np.mean(a,axis=0).tolist(),np.mean(a,axis=1).tolist(),np.mean(a).tolist()]\n",
        "  calculations['variance'] = [np.var(a,axis=0).tolist(),np.var(a,axis=1).tolist(),np.var(a).tolist()]\n",
        "  calculations['standard deviation'] = [np.std(a,axis=0).tolist(),np.std(a,axis=1).tolist(),np.std(a).tolist()]\n",
        "  calculations['max'] = [np.max(a,axis=0).tolist(),np.max(a,axis=1).tolist(),np.max(a).tolist()]\n",
        "  calculations['min'] = [np.min(a,axis=0).tolist(),np.min(a,axis=1).tolist(),np.min(a).tolist()]\n",
        "  calculations['sum'] = [np.sum(a,axis=0).tolist(),np.sum(a,axis=1).tolist(),np.sum(a).tolist()]\n",
        "  return calculations"
      ],
      "metadata": {
        "id": "we96ToOBfH6U"
      },
      "execution_count": 47,
      "outputs": []
    },
    {
      "cell_type": "code",
      "source": [
        "\n",
        "multi_array = np.array([[1, 2], [3, 4], [5, 6]])\n",
        "flat_array = multi_array.flatten()\n",
        "print(flat_array)"
      ],
      "metadata": {
        "colab": {
          "base_uri": "https://localhost:8080/"
        },
        "id": "1VpWF5huiYxR",
        "outputId": "d2a709d1-9bd1-4be1-c0a7-6677a65183f3"
      },
      "execution_count": 49,
      "outputs": [
        {
          "output_type": "stream",
          "name": "stdout",
          "text": [
            "[1 2 3 4 5 6]\n"
          ]
        }
      ]
    },
    {
      "cell_type": "code",
      "source": [
        "print(calculate([0,1,2,3,4,5,6,7,8]))\n"
      ],
      "metadata": {
        "colab": {
          "base_uri": "https://localhost:8080/"
        },
        "id": "GRrkPLUPfOJs",
        "outputId": "42d9bf83-1652-48af-df6d-5bea75065ed7"
      },
      "execution_count": 50,
      "outputs": [
        {
          "output_type": "stream",
          "name": "stdout",
          "text": [
            "{'mean': [[3.0, 4.0, 5.0], [1.0, 4.0, 7.0], 4.0], 'variance': [[6.0, 6.0, 6.0], [0.6666666666666666, 0.6666666666666666, 0.6666666666666666], 6.666666666666667], 'standard deviation': [[2.449489742783178, 2.449489742783178, 2.449489742783178], [0.816496580927726, 0.816496580927726, 0.816496580927726], 2.581988897471611], 'max': [[6, 7, 8], [2, 5, 8], 8], 'min': [[0, 1, 2], [0, 3, 6], 0], 'sum': [[9, 12, 15], [3, 12, 21], 36]}\n"
          ]
        }
      ]
    },
    {
      "cell_type": "code",
      "source": [],
      "metadata": {
        "id": "PhFpQRNWe6I2"
      },
      "execution_count": null,
      "outputs": []
    }
  ]
}